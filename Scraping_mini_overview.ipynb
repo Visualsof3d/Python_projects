{
 "cells": [
  {
   "cell_type": "code",
   "execution_count": 1,
   "id": "015d9410-57c5-4799-bc4a-0e353fe8e690",
   "metadata": {},
   "outputs": [],
   "source": [
    "import requests\n",
    "from bs4 import BeautifulSoup"
   ]
  },
  {
   "cell_type": "code",
   "execution_count": 3,
   "id": "e7e5422e-bf6c-4a82-8a26-3e174371e76d",
   "metadata": {},
   "outputs": [],
   "source": [
    "website = requests.get(\"https://art-store-frontend.vercel.app\")"
   ]
  },
  {
   "cell_type": "code",
   "execution_count": 4,
   "id": "e0b7006c-64a6-46f8-a6d0-6e1a0bbbda9e",
   "metadata": {},
   "outputs": [
    {
     "data": {
      "text/plain": [
       "<Response [200]>"
      ]
     },
     "execution_count": 4,
     "metadata": {},
     "output_type": "execute_result"
    }
   ],
   "source": [
    "website"
   ]
  },
  {
   "cell_type": "code",
   "execution_count": 5,
   "id": "3b42d052-330e-4ec6-86dc-0406029618ed",
   "metadata": {},
   "outputs": [],
   "source": [
    "soup = BeautifulSoup(website.content, \"html.parser\")"
   ]
  },
  {
   "cell_type": "code",
   "execution_count": 6,
   "id": "a73ff2b2-9c2b-47e7-a128-0553d8479a66",
   "metadata": {},
   "outputs": [],
   "source": [
    "heading_lines = soup.find_all(\"h2\")"
   ]
  },
  {
   "cell_type": "code",
   "execution_count": 7,
   "id": "72305167-e759-469a-99ee-07b8134283d7",
   "metadata": {
    "collapsed": true,
    "jupyter": {
     "outputs_hidden": true
    }
   },
   "outputs": [
    {
     "data": {
      "text/plain": [
       "[<h2 class=\"text-lg font-medium\">The Traveller</h2>,\n",
       " <h2 class=\"text-lg font-medium\">The Journey</h2>,\n",
       " <h2 class=\"text-lg font-medium\">In The Woods</h2>,\n",
       " <h2 class=\"text-lg font-medium\">Apocalypse : The End</h2>,\n",
       " <h2 class=\"text-lg font-medium\">Apocalypse 2</h2>,\n",
       " <h2 class=\"text-lg font-medium\">Apocalypse</h2>,\n",
       " <h2 class=\"text-lg font-medium\">Devotee</h2>,\n",
       " <h2 class=\"text-lg font-medium\">Strange Vibe</h2>,\n",
       " <h2 class=\"text-lg font-medium\">Virtual Dream</h2>,\n",
       " <h2 class=\"text-lg font-medium\">Dark World</h2>,\n",
       " <h2 class=\"text-lg font-medium\">MetaHuman</h2>,\n",
       " <h2 class=\"text-lg font-medium\">Late Night Thought</h2>]"
      ]
     },
     "execution_count": 7,
     "metadata": {},
     "output_type": "execute_result"
    }
   ],
   "source": [
    "heading_lines"
   ]
  },
  {
   "cell_type": "markdown",
   "id": "9f292e0e-2638-4499-b034-0aa43258d40a",
   "metadata": {},
   "source": [
    "Text from heading lines"
   ]
  },
  {
   "cell_type": "code",
   "execution_count": 12,
   "id": "873ac41e-1e27-48a7-899b-4cb069b29152",
   "metadata": {},
   "outputs": [
    {
     "name": "stdout",
     "output_type": "stream",
     "text": [
      "The Traveller\n",
      "The Journey\n",
      "In The Woods\n",
      "Apocalypse : The End\n",
      "Apocalypse 2\n",
      "Apocalypse\n",
      "Devotee\n",
      "Strange Vibe\n",
      "Virtual Dream\n",
      "Dark World\n",
      "MetaHuman\n",
      "Late Night Thought\n"
     ]
    }
   ],
   "source": [
    "for line in heading_lines:\n",
    "    print(line.text)  #print(line.text) works same"
   ]
  },
  {
   "cell_type": "code",
   "execution_count": null,
   "id": "5abb624b-bcda-444c-9aaf-9df19a64be84",
   "metadata": {},
   "outputs": [],
   "source": []
  },
  {
   "cell_type": "markdown",
   "id": "1433fe07-8d46-4c25-a3e4-d3862fdad338",
   "metadata": {},
   "source": [
    "Specific data"
   ]
  },
  {
   "cell_type": "code",
   "execution_count": 22,
   "id": "d50f5ab9-6f0a-45a9-ba98-af5837ded19c",
   "metadata": {},
   "outputs": [],
   "source": [
    "head = soup.find(\"div\", class_ = \"text-[28px] md:text-[34px] mb-5 font-semibold leading-tight\")"
   ]
  },
  {
   "cell_type": "code",
   "execution_count": 23,
   "id": "2c719378-7b89-4c94-976b-27165ac2be6e",
   "metadata": {},
   "outputs": [
    {
     "data": {
      "text/plain": [
       "'Find Categories that fit Your World'"
      ]
     },
     "execution_count": 23,
     "metadata": {},
     "output_type": "execute_result"
    }
   ],
   "source": [
    "head.text"
   ]
  },
  {
   "cell_type": "code",
   "execution_count": null,
   "id": "743f5cea-f856-4a99-941a-252418a0a622",
   "metadata": {},
   "outputs": [],
   "source": []
  },
  {
   "cell_type": "markdown",
   "id": "6be97c28-39bb-40f9-93a0-9f4ae0f58fe5",
   "metadata": {},
   "source": [
    "ALL LINKS"
   ]
  },
  {
   "cell_type": "code",
   "execution_count": 37,
   "id": "2ad01a7a-6959-4bb0-9784-1377566f6c52",
   "metadata": {
    "collapsed": true,
    "jupyter": {
     "outputs_hidden": true
    }
   },
   "outputs": [
    {
     "name": "stdout",
     "output_type": "stream",
     "text": [
      "/\n",
      "/\n",
      "/contact\n",
      "/whatisArtstore\n",
      "https://github.com/Visualsof3d/ArtstorePublic\n",
      "/cart\n",
      "/category/fantasy\n",
      "/category/fantasy\n",
      "/category/fantasy\n",
      "/category/fantasy\n",
      "/category/fantasy\n",
      "/category/fantasy\n",
      "/category/fantasy\n",
      "/category/fantasy\n",
      "/category/fantasy\n",
      "/product/the-traveller\n",
      "/product/the-journey\n",
      "/product/in-the-woods\n",
      "/product/apocalypse-the-end\n",
      "/product/apocalypse-2\n",
      "/product/apocalypse-3\n",
      "/product/devotee\n",
      "/product/strange-vibe\n",
      "/product/virtual-dream\n",
      "/product/dark-world\n",
      "/product/meta-human\n",
      "/product/l-1\n"
     ]
    }
   ],
   "source": [
    "for link in soup.find_all(\"a\"):\n",
    "    print(link.get(\"href\"))"
   ]
  },
  {
   "cell_type": "code",
   "execution_count": 38,
   "id": "341320f2-fb19-49a3-bc9e-bc368fff4027",
   "metadata": {
    "collapsed": true,
    "jupyter": {
     "outputs_hidden": true
    }
   },
   "outputs": [
    {
     "name": "stdout",
     "output_type": "stream",
     "text": [
      "Artstore-logo.svg\n",
      "/slide4.jpg\n",
      "/slidea.jpg\n",
      "/slided.jpg\n",
      "/slide3.jpg\n",
      "/abcde.jpg\n",
      "/slidec.jpg\n",
      "/slide51.jpg\n",
      "/slide4.jpg\n",
      "/slidea.jpg\n",
      "/_next/image?url=https%3A%2F%2Fres.cloudinary.com%2Fdaosocort%2Fimage%2Fupload%2Fv1685193028%2FThe_Traveller_30093b87ab.jpg&w=1080&q=75\n",
      "/_next/image?url=https%3A%2F%2Fres.cloudinary.com%2Fdaosocort%2Fimage%2Fupload%2Fv1685600710%2Fp_2_baf27ac360.jpg&w=1080&q=75\n",
      "/_next/image?url=https%3A%2F%2Fres.cloudinary.com%2Fdaosocort%2Fimage%2Fupload%2Fv1685600773%2Fp_3_44c3667e54.jpg&w=1080&q=75\n",
      "/_next/image?url=https%3A%2F%2Fres.cloudinary.com%2Fdaosocort%2Fimage%2Fupload%2Fv1685600836%2Fp_4_faea0e2d1c.jpg&w=1080&q=75\n",
      "/_next/image?url=https%3A%2F%2Fres.cloudinary.com%2Fdaosocort%2Fimage%2Fupload%2Fv1685600895%2Fp_5_577a74db0d.jpg&w=1080&q=75\n",
      "/_next/image?url=https%3A%2F%2Fres.cloudinary.com%2Fdaosocort%2Fimage%2Fupload%2Fv1685600974%2Fp_6_09cce1e562.jpg&w=1080&q=75\n",
      "/_next/image?url=https%3A%2F%2Fres.cloudinary.com%2Fdaosocort%2Fimage%2Fupload%2Fv1685601199%2Fp_8_04abbc6dab.jpg&w=1080&q=75\n",
      "/_next/image?url=https%3A%2F%2Fres.cloudinary.com%2Fdaosocort%2Fimage%2Fupload%2Fv1685601360%2Fp_11_c6f8416e24.jpg&w=1080&q=75\n",
      "/_next/image?url=https%3A%2F%2Fres.cloudinary.com%2Fdaosocort%2Fimage%2Fupload%2Fv1685601249%2Fp_9_fcbee19939.jpg&w=1080&q=75\n",
      "/_next/image?url=https%3A%2F%2Fres.cloudinary.com%2Fdaosocort%2Fimage%2Fupload%2Fv1685601030%2Fp_7_609a087da2.jpg&w=1080&q=75\n",
      "/_next/image?url=https%3A%2F%2Fres.cloudinary.com%2Fdaosocort%2Fimage%2Fupload%2Fv1685601408%2Fp_12_a1bc206d42.jpg&w=1080&q=75\n",
      "/_next/image?url=https%3A%2F%2Fres.cloudinary.com%2Fdaosocort%2Fimage%2Fupload%2Fv1685601312%2Fp_10_6ab29d8b8c.jpg&w=1080&q=75\n"
     ]
    }
   ],
   "source": [
    "for img in soup.find_all(\"img\"):\n",
    "    print(img.get(\"src\"))"
   ]
  },
  {
   "cell_type": "code",
   "execution_count": null,
   "id": "54eac6d9-fae1-4dec-b9ae-480da5964be7",
   "metadata": {},
   "outputs": [],
   "source": []
  }
 ],
 "metadata": {
  "kernelspec": {
   "display_name": "Python 3 (ipykernel)",
   "language": "python",
   "name": "python3"
  },
  "language_info": {
   "codemirror_mode": {
    "name": "ipython",
    "version": 3
   },
   "file_extension": ".py",
   "mimetype": "text/x-python",
   "name": "python",
   "nbconvert_exporter": "python",
   "pygments_lexer": "ipython3",
   "version": "3.12.0"
  }
 },
 "nbformat": 4,
 "nbformat_minor": 5
}
